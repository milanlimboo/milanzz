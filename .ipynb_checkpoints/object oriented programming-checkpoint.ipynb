{
 "cells": [
  {
   "cell_type": "code",
   "execution_count": 2,
   "id": "5719104b",
   "metadata": {},
   "outputs": [],
   "source": [
    "class Car():\n",
    "    def __init__(self,color,model,make):\n",
    "        self.color = color\n",
    "        self.model = model\n",
    "        self.make = make\n",
    "    def accelerate(self):\n",
    "        print('The car is accelerating')\n",
    "    def brake(self):\n",
    "        print('The car is braking')"
   ]
  },
  {
   "cell_type": "code",
   "execution_count": 3,
   "id": "afc661a4",
   "metadata": {},
   "outputs": [],
   "source": [
    "my_car = Car('Red','Ferrari','488GTB')"
   ]
  },
  {
   "cell_type": "code",
   "execution_count": 4,
   "id": "17df1751",
   "metadata": {},
   "outputs": [
    {
     "name": "stdout",
     "output_type": "stream",
     "text": [
      "Red\n"
     ]
    }
   ],
   "source": [
    "print(my_car.color)"
   ]
  },
  {
   "cell_type": "code",
   "execution_count": 6,
   "id": "46911a9d",
   "metadata": {},
   "outputs": [
    {
     "data": {
      "text/plain": [
       "'488GTB'"
      ]
     },
     "execution_count": 6,
     "metadata": {},
     "output_type": "execute_result"
    }
   ],
   "source": [
    "my_car.make"
   ]
  },
  {
   "cell_type": "code",
   "execution_count": 8,
   "id": "8ce5a06c",
   "metadata": {},
   "outputs": [
    {
     "name": "stdout",
     "output_type": "stream",
     "text": [
      "The car is accelerating\n"
     ]
    }
   ],
   "source": [
    "my_car.accelerate()"
   ]
  },
  {
   "cell_type": "code",
   "execution_count": 9,
   "id": "2c81c6e7",
   "metadata": {},
   "outputs": [
    {
     "name": "stdout",
     "output_type": "stream",
     "text": [
      "The car is braking\n"
     ]
    }
   ],
   "source": [
    "my_car.brake()"
   ]
  },
  {
   "cell_type": "code",
   "execution_count": 10,
   "id": "47fb9cf9",
   "metadata": {},
   "outputs": [],
   "source": [
    "mylist = [1,2,3]"
   ]
  },
  {
   "cell_type": "code",
   "execution_count": 11,
   "id": "e1c824f5",
   "metadata": {},
   "outputs": [
    {
     "data": {
      "text/plain": [
       "[1, 2, 3]"
      ]
     },
     "execution_count": 11,
     "metadata": {},
     "output_type": "execute_result"
    }
   ],
   "source": [
    "mylist"
   ]
  },
  {
   "cell_type": "code",
   "execution_count": 14,
   "id": "18ca50da",
   "metadata": {},
   "outputs": [],
   "source": [
    "myset = [1,2,3,4,4,5,5]"
   ]
  },
  {
   "cell_type": "code",
   "execution_count": 15,
   "id": "cffb3f7e",
   "metadata": {},
   "outputs": [],
   "source": [
    "myset = set()"
   ]
  },
  {
   "cell_type": "code",
   "execution_count": 17,
   "id": "1ca0332c",
   "metadata": {},
   "outputs": [
    {
     "data": {
      "text/plain": [
       "set()"
      ]
     },
     "execution_count": 17,
     "metadata": {},
     "output_type": "execute_result"
    }
   ],
   "source": [
    "myset"
   ]
  },
  {
   "cell_type": "code",
   "execution_count": 18,
   "id": "88a5d447",
   "metadata": {},
   "outputs": [],
   "source": [
    "class sample():\n",
    "    pass"
   ]
  },
  {
   "cell_type": "code",
   "execution_count": 19,
   "id": "54e75651",
   "metadata": {},
   "outputs": [],
   "source": [
    "my_sample = sample()"
   ]
  },
  {
   "cell_type": "code",
   "execution_count": 20,
   "id": "3b84ce25",
   "metadata": {},
   "outputs": [
    {
     "data": {
      "text/plain": [
       "__main__.sample"
      ]
     },
     "execution_count": 20,
     "metadata": {},
     "output_type": "execute_result"
    }
   ],
   "source": [
    "type(my_sample)"
   ]
  },
  {
   "cell_type": "code",
   "execution_count": 44,
   "id": "7ddd3a34",
   "metadata": {
    "scrolled": true
   },
   "outputs": [
    {
     "ename": "SyntaxError",
     "evalue": "invalid syntax (3894246536.py, line 2)",
     "output_type": "error",
     "traceback": [
      "\u001b[1;36m  Cell \u001b[1;32mIn[44], line 2\u001b[1;36m\u001b[0m\n\u001b[1;33m    def__init__(self,breed):\u001b[0m\n\u001b[1;37m                           ^\u001b[0m\n\u001b[1;31mSyntaxError\u001b[0m\u001b[1;31m:\u001b[0m invalid syntax\n"
     ]
    }
   ],
   "source": [
    "class Dog():\n",
    "    def__init__(self,breed):\n",
    "        self.breed = breed"
   ]
  },
  {
   "cell_type": "code",
   "execution_count": null,
   "id": "2924b248",
   "metadata": {},
   "outputs": [],
   "source": [
    "ss"
   ]
  }
 ],
 "metadata": {
  "kernelspec": {
   "display_name": "Python 3 (ipykernel)",
   "language": "python",
   "name": "python3"
  },
  "language_info": {
   "codemirror_mode": {
    "name": "ipython",
    "version": 3
   },
   "file_extension": ".py",
   "mimetype": "text/x-python",
   "name": "python",
   "nbconvert_exporter": "python",
   "pygments_lexer": "ipython3",
   "version": "3.10.9"
  }
 },
 "nbformat": 4,
 "nbformat_minor": 5
}

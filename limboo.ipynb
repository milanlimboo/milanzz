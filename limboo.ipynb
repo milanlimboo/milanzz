{
 "cells": [
  {
   "cell_type": "code",
   "execution_count": 1,
   "id": "0d640303",
   "metadata": {},
   "outputs": [],
   "source": [
    "# write loops in python "
   ]
  },
  {
   "cell_type": "code",
   "execution_count": 3,
   "id": "69494cab",
   "metadata": {},
   "outputs": [],
   "source": [
    "\n",
    "#while bollen_condition:\n",
    "    #do something\n",
    "    #else:\n",
    "       #do something else"
   ]
  },
  {
   "cell_type": "code",
   "execution_count": null,
   "id": "7424fd8d",
   "metadata": {},
   "outputs": [],
   "source": [
    "x = 0\n",
    "while x<5:\n",
    "    print (f'the current value of x is{x}')\n",
    "    \n",
    "    #x = x+1\n",
    "    else:\n",
    "    print('x is not less than 5')"
   ]
  },
  {
   "cell_type": "code",
   "execution_count": null,
   "id": "024a72fe",
   "metadata": {},
   "outputs": [],
   "source": [
    "#break, continue pass"
   ]
  },
  {
   "cell_type": "code",
   "execution_count": null,
   "id": "9748495e",
   "metadata": {},
   "outputs": [],
   "source": [
    "#break:break out of closest enclossing loop\n",
    "#continue:goes to the top of the closest enclossing loop\n",
    "#pass:does nothing at all"
   ]
  },
  {
   "cell_type": "code",
   "execution_count": null,
   "id": "7b4b9e12",
   "metadata": {},
   "outputs": [],
   "source": [
    "x=[1,2,3,]\n",
    "for item in x:\n",
    "    #gsdgsd\n",
    "    pass\n",
    "print('the end of my script')"
   ]
  },
  {
   "cell_type": "code",
   "execution_count": 1,
   "id": "dbd91f5f",
   "metadata": {},
   "outputs": [],
   "source": [
    "#in keyword"
   ]
  },
  {
   "cell_type": "code",
   "execution_count": 2,
   "id": "93e90725",
   "metadata": {},
   "outputs": [
    {
     "data": {
      "text/plain": [
       "False"
      ]
     },
     "execution_count": 2,
     "metadata": {},
     "output_type": "execute_result"
    }
   ],
   "source": [
    "'x' in[1,2,3]"
   ]
  },
  {
   "cell_type": "code",
   "execution_count": 3,
   "id": "f30ffa97",
   "metadata": {},
   "outputs": [
    {
     "data": {
      "text/plain": [
       "True"
      ]
     },
     "execution_count": 3,
     "metadata": {},
     "output_type": "execute_result"
    }
   ],
   "source": [
    "'x' in['x','y','z']"
   ]
  },
  {
   "cell_type": "code",
   "execution_count": 4,
   "id": "25f0ec70",
   "metadata": {},
   "outputs": [
    {
     "data": {
      "text/plain": [
       "True"
      ]
     },
     "execution_count": 4,
     "metadata": {},
     "output_type": "execute_result"
    }
   ],
   "source": [
    "'a' in 'wondela'"
   ]
  },
  {
   "cell_type": "code",
   "execution_count": 5,
   "id": "128379f9",
   "metadata": {},
   "outputs": [
    {
     "data": {
      "text/plain": [
       "True"
      ]
     },
     "execution_count": 5,
     "metadata": {},
     "output_type": "execute_result"
    }
   ],
   "source": [
    "'mykey' in {'mykey':235}"
   ]
  },
  {
   "cell_type": "code",
   "execution_count": 6,
   "id": "ab5a966f",
   "metadata": {},
   "outputs": [],
   "source": [
    "d = {'mykey':345}"
   ]
  },
  {
   "cell_type": "code",
   "execution_count": 7,
   "id": "b2d9d9cf",
   "metadata": {},
   "outputs": [
    {
     "data": {
      "text/plain": [
       "True"
      ]
     },
     "execution_count": 7,
     "metadata": {},
     "output_type": "execute_result"
    }
   ],
   "source": [
    "345 in d.values()"
   ]
  },
  {
   "cell_type": "code",
   "execution_count": 8,
   "id": "d2daf267",
   "metadata": {},
   "outputs": [
    {
     "data": {
      "text/plain": [
       "False"
      ]
     },
     "execution_count": 8,
     "metadata": {},
     "output_type": "execute_result"
    }
   ],
   "source": [
    "345 in d.keys()"
   ]
  },
  {
   "cell_type": "code",
   "execution_count": 10,
   "id": "2ca8ca19",
   "metadata": {},
   "outputs": [
    {
     "data": {
      "text/plain": [
       "False"
      ]
     },
     "execution_count": 10,
     "metadata": {},
     "output_type": "execute_result"
    }
   ],
   "source": [
    "345 in d.items()"
   ]
  },
  {
   "cell_type": "code",
   "execution_count": 11,
   "id": "61ef5900",
   "metadata": {},
   "outputs": [],
   "source": [
    "#min,max"
   ]
  },
  {
   "cell_type": "code",
   "execution_count": 13,
   "id": "0a657932",
   "metadata": {},
   "outputs": [
    {
     "data": {
      "text/plain": [
       "10"
      ]
     },
     "execution_count": 13,
     "metadata": {},
     "output_type": "execute_result"
    }
   ],
   "source": [
    "mylist=[10,20,30,40,50]\n",
    "min(mylist)"
   ]
  },
  {
   "cell_type": "code",
   "execution_count": 14,
   "id": "2433dce9",
   "metadata": {},
   "outputs": [
    {
     "data": {
      "text/plain": [
       "50"
      ]
     },
     "execution_count": 14,
     "metadata": {},
     "output_type": "execute_result"
    }
   ],
   "source": [
    "max(mylist)"
   ]
  },
  {
   "cell_type": "code",
   "execution_count": 16,
   "id": "285ed1d4",
   "metadata": {},
   "outputs": [],
   "source": [
    "#random library"
   ]
  },
  {
   "cell_type": "code",
   "execution_count": 21,
   "id": "152ee5f5",
   "metadata": {},
   "outputs": [],
   "source": [
    "from random import shuffle\n",
    "mylist = [1,2,3,4,5,6,7,8]\n",
    "shuffle(mylist)\n",
    "rd1 = mylist"
   ]
  },
  {
   "cell_type": "code",
   "execution_count": 22,
   "id": "e6b96f5a",
   "metadata": {},
   "outputs": [
    {
     "data": {
      "text/plain": [
       "[7, 8, 2, 6, 5, 1, 3, 4]"
      ]
     },
     "execution_count": 22,
     "metadata": {},
     "output_type": "execute_result"
    }
   ],
   "source": [
    "rd1"
   ]
  },
  {
   "cell_type": "code",
   "execution_count": 26,
   "id": "c0324b37",
   "metadata": {},
   "outputs": [
    {
     "data": {
      "text/plain": [
       "0"
      ]
     },
     "execution_count": 26,
     "metadata": {},
     "output_type": "execute_result"
    }
   ],
   "source": [
    " from random import randint\n",
    "randint(0,10)"
   ]
  },
  {
   "cell_type": "code",
   "execution_count": 27,
   "id": "f3a5c087",
   "metadata": {},
   "outputs": [
    {
     "data": {
      "text/plain": [
       "87"
      ]
     },
     "execution_count": 27,
     "metadata": {},
     "output_type": "execute_result"
    }
   ],
   "source": [
    "randint(0,100)"
   ]
  },
  {
   "cell_type": "code",
   "execution_count": 31,
   "id": "5f149f1c",
   "metadata": {},
   "outputs": [],
   "source": [
    "my_num = randint(0,50)"
   ]
  },
  {
   "cell_type": "code",
   "execution_count": 32,
   "id": "93c559f5",
   "metadata": {},
   "outputs": [
    {
     "data": {
      "text/plain": [
       "27"
      ]
     },
     "execution_count": 32,
     "metadata": {},
     "output_type": "execute_result"
    }
   ],
   "source": [
    "my_num"
   ]
  },
  {
   "cell_type": "code",
   "execution_count": 34,
   "id": "7bb1a07d",
   "metadata": {},
   "outputs": [],
   "source": [
    "#input()"
   ]
  },
  {
   "cell_type": "code",
   "execution_count": 35,
   "id": "732c986e",
   "metadata": {},
   "outputs": [
    {
     "data": {
      "text/plain": [
       "<bound method Kernel.raw_input of <ipykernel.ipkernel.IPythonKernel object at 0x000001C2BC273C70>>"
      ]
     },
     "execution_count": 35,
     "metadata": {},
     "output_type": "execute_result"
    }
   ],
   "source": [
    "input "
   ]
  },
  {
   "cell_type": "code",
   "execution_count": 37,
   "id": "407d2757",
   "metadata": {},
   "outputs": [
    {
     "data": {
      "text/plain": [
       "'enter a number here'"
      ]
     },
     "execution_count": 37,
     "metadata": {},
     "output_type": "execute_result"
    }
   ],
   "source": [
    "('enter a number here')"
   ]
  },
  {
   "cell_type": "code",
   "execution_count": 38,
   "id": "30d45c9e",
   "metadata": {},
   "outputs": [
    {
     "name": "stdout",
     "output_type": "stream",
     "text": [
      "what is your favourit color22\n"
     ]
    },
    {
     "data": {
      "text/plain": [
       "'22'"
      ]
     },
     "execution_count": 38,
     "metadata": {},
     "output_type": "execute_result"
    }
   ],
   "source": [
    "input('what is your favourit color')"
   ]
  },
  {
   "cell_type": "code",
   "execution_count": 39,
   "id": "63567eac",
   "metadata": {},
   "outputs": [
    {
     "name": "stdout",
     "output_type": "stream",
     "text": [
      "enter your favourite no22\n"
     ]
    },
    {
     "data": {
      "text/plain": [
       "'22'"
      ]
     },
     "execution_count": 39,
     "metadata": {},
     "output_type": "execute_result"
    }
   ],
   "source": [
    "input('enter your favourite no')"
   ]
  },
  {
   "cell_type": "code",
   "execution_count": 41,
   "id": "550b7fe0",
   "metadata": {
    "scrolled": true
   },
   "outputs": [
    {
     "name": "stdout",
     "output_type": "stream",
     "text": [
      "enter your favorite no22\n"
     ]
    }
   ],
   "source": [
    "result= int(input('enter your favorite no'))"
   ]
  },
  {
   "cell_type": "code",
   "execution_count": 42,
   "id": "d82b3c43",
   "metadata": {},
   "outputs": [
    {
     "data": {
      "text/plain": [
       "22"
      ]
     },
     "execution_count": 42,
     "metadata": {},
     "output_type": "execute_result"
    }
   ],
   "source": [
    "result"
   ]
  },
  {
   "cell_type": "code",
   "execution_count": 43,
   "id": "d75f451c",
   "metadata": {},
   "outputs": [
    {
     "data": {
      "text/plain": [
       "int"
      ]
     },
     "execution_count": 43,
     "metadata": {},
     "output_type": "execute_result"
    }
   ],
   "source": [
    "type(result)"
   ]
  },
  {
   "cell_type": "code",
   "execution_count": 44,
   "id": "ece0ae10",
   "metadata": {},
   "outputs": [
    {
     "name": "stdout",
     "output_type": "stream",
     "text": [
      "enter 1st number22\n",
      "enter second number45\n",
      "67.0\n"
     ]
    }
   ],
   "source": [
    "number= float(input('enter 1st number'))\n",
    "number_two= float(input('enter second number'))\n",
    "result= number+ number_two\n",
    "print(result)"
   ]
  },
  {
   "cell_type": "code",
   "execution_count": 45,
   "id": "6b8ea08e",
   "metadata": {},
   "outputs": [],
   "source": [
    "#list comprehensions in python"
   ]
  },
  {
   "cell_type": "code",
   "execution_count": 48,
   "id": "e9916af1",
   "metadata": {},
   "outputs": [],
   "source": [
    "mystring ='hello'\n",
    "mylist=[]\n",
    "for letter in mystring:\n",
    "     mylist.append(letter)"
   ]
  },
  {
   "cell_type": "code",
   "execution_count": 49,
   "id": "ff890a62",
   "metadata": {},
   "outputs": [
    {
     "data": {
      "text/plain": [
       "['h', 'e', 'l', 'l', 'o']"
      ]
     },
     "execution_count": 49,
     "metadata": {},
     "output_type": "execute_result"
    }
   ],
   "source": [
    "mylist"
   ]
  },
  {
   "cell_type": "code",
   "execution_count": 50,
   "id": "d18e6ef0",
   "metadata": {},
   "outputs": [],
   "source": [
    "mystring= 'hello'\n",
    "mylist=[letter for letter in mystring]"
   ]
  },
  {
   "cell_type": "code",
   "execution_count": 51,
   "id": "55b4e829",
   "metadata": {},
   "outputs": [
    {
     "data": {
      "text/plain": [
       "['h', 'e', 'l', 'l', 'o']"
      ]
     },
     "execution_count": 51,
     "metadata": {},
     "output_type": "execute_result"
    }
   ],
   "source": [
    "mylist"
   ]
  },
  {
   "cell_type": "code",
   "execution_count": 54,
   "id": "b3c92493",
   "metadata": {},
   "outputs": [],
   "source": [
    "mylist= [x for x in 'anish and milan']"
   ]
  },
  {
   "cell_type": "code",
   "execution_count": 55,
   "id": "a31b6243",
   "metadata": {},
   "outputs": [
    {
     "data": {
      "text/plain": [
       "['a', 'n', 'i', 's', 'h', ' ', 'a', 'n', 'd', ' ', 'm', 'i', 'l', 'a', 'n']"
      ]
     },
     "execution_count": 55,
     "metadata": {},
     "output_type": "execute_result"
    }
   ],
   "source": [
    "mylist"
   ]
  },
  {
   "cell_type": "code",
   "execution_count": 56,
   "id": "03099f1c",
   "metadata": {},
   "outputs": [],
   "source": [
    "my_num=[num**2 for num in range(0,11)]"
   ]
  },
  {
   "cell_type": "code",
   "execution_count": 57,
   "id": "dd7e14fa",
   "metadata": {},
   "outputs": [
    {
     "data": {
      "text/plain": [
       "[0, 1, 4, 9, 16, 25, 36, 49, 64, 81, 100]"
      ]
     },
     "execution_count": 57,
     "metadata": {},
     "output_type": "execute_result"
    }
   ],
   "source": [
    "my_num"
   ]
  },
  {
   "cell_type": "code",
   "execution_count": 59,
   "id": "5b150bd5",
   "metadata": {},
   "outputs": [],
   "source": [
    "myeven=[x for x in range(0,11)if x%2==0]"
   ]
  },
  {
   "cell_type": "code",
   "execution_count": 60,
   "id": "1aeddd5d",
   "metadata": {},
   "outputs": [
    {
     "data": {
      "text/plain": [
       "[0, 2, 4, 6, 8, 10]"
      ]
     },
     "execution_count": 60,
     "metadata": {},
     "output_type": "execute_result"
    }
   ],
   "source": [
    "myeven"
   ]
  },
  {
   "cell_type": "code",
   "execution_count": 61,
   "id": "3bfeaf01",
   "metadata": {},
   "outputs": [],
   "source": [
    "celcius=[0,1,20,30,40,50,5]\n",
    "fahrenheit=[((9/5)*temp+34)for temp in celcius]"
   ]
  },
  {
   "cell_type": "code",
   "execution_count": 62,
   "id": "8094140d",
   "metadata": {},
   "outputs": [
    {
     "data": {
      "text/plain": [
       "[34.0, 35.8, 70.0, 88.0, 106.0, 124.0, 43.0]"
      ]
     },
     "execution_count": 62,
     "metadata": {},
     "output_type": "execute_result"
    }
   ],
   "source": [
    "fahrenheit"
   ]
  },
  {
   "cell_type": "code",
   "execution_count": 72,
   "id": "ed0bffaa",
   "metadata": {},
   "outputs": [
    {
     "name": "stdout",
     "output_type": "stream",
     "text": [
      "[34.0, 35.8, 70.0, 88.0, 106.0, 124.0, 43.0]\n"
     ]
    }
   ],
   "source": [
    "elcius=[0,10,20,30,40,50,5]\n",
    "fahrenheit=[]\n",
    "for temp in celcius:\n",
    "        fahrenheit.append((9/5)*temp+34)\n",
    "print(fahrenheit)"
   ]
  },
  {
   "cell_type": "code",
   "execution_count": 73,
   "id": "16baeeca",
   "metadata": {},
   "outputs": [],
   "source": [
    "result=[x if x%2 == 0 else 'COD' for x in range(0,10)]"
   ]
  },
  {
   "cell_type": "code",
   "execution_count": 74,
   "id": "628ab814",
   "metadata": {},
   "outputs": [
    {
     "data": {
      "text/plain": [
       "[0, 'COD', 2, 'COD', 4, 'COD', 6, 'COD', 8, 'COD']"
      ]
     },
     "execution_count": 74,
     "metadata": {},
     "output_type": "execute_result"
    }
   ],
   "source": [
    "result"
   ]
  },
  {
   "cell_type": "code",
   "execution_count": 75,
   "id": "ecfbf63e",
   "metadata": {},
   "outputs": [],
   "source": [
    "#nested loop"
   ]
  },
  {
   "cell_type": "code",
   "execution_count": 77,
   "id": "51992f09",
   "metadata": {},
   "outputs": [],
   "source": [
    "mylist=[]\n",
    "for x in [2,4,6]:\n",
    "        for y in [6,7,8]:\n",
    "                mylist.append(x*y)"
   ]
  },
  {
   "cell_type": "code",
   "execution_count": 78,
   "id": "6fdd21c0",
   "metadata": {},
   "outputs": [
    {
     "data": {
      "text/plain": [
       "[12, 14, 16, 24, 28, 32, 36, 42, 48]"
      ]
     },
     "execution_count": 78,
     "metadata": {},
     "output_type": "execute_result"
    }
   ],
   "source": [
    "mylist"
   ]
  },
  {
   "cell_type": "code",
   "execution_count": 80,
   "id": "004a8342",
   "metadata": {},
   "outputs": [],
   "source": [
    "mynest=[x*y for x in [2,3,4]for y in [4,5,6,]]"
   ]
  },
  {
   "cell_type": "code",
   "execution_count": 81,
   "id": "2e74dbce",
   "metadata": {},
   "outputs": [
    {
     "data": {
      "text/plain": [
       "[8, 10, 12, 12, 15, 18, 16, 20, 24]"
      ]
     },
     "execution_count": 81,
     "metadata": {},
     "output_type": "execute_result"
    }
   ],
   "source": [
    "mynest"
   ]
  },
  {
   "cell_type": "code",
   "execution_count": null,
   "id": "5bbc91de",
   "metadata": {},
   "outputs": [],
   "source": []
  }
 ],
 "metadata": {
  "kernelspec": {
   "display_name": "Python 3 (ipykernel)",
   "language": "python",
   "name": "python3"
  },
  "language_info": {
   "codemirror_mode": {
    "name": "ipython",
    "version": 3
   },
   "file_extension": ".py",
   "mimetype": "text/x-python",
   "name": "python",
   "nbconvert_exporter": "python",
   "pygments_lexer": "ipython3",
   "version": "3.10.9"
  }
 },
 "nbformat": 4,
 "nbformat_minor": 5
}

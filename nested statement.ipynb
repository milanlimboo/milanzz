{
 "cells": [
  {
   "cell_type": "code",
   "execution_count": 1,
   "id": "78e55b67",
   "metadata": {},
   "outputs": [],
   "source": [
    "#nested statement and scope"
   ]
  },
  {
   "cell_type": "code",
   "execution_count": 2,
   "id": "294229e5",
   "metadata": {},
   "outputs": [],
   "source": [
    "x=25\n",
    "def printer():\n",
    "    x=50\n",
    "    return x"
   ]
  },
  {
   "cell_type": "code",
   "execution_count": 4,
   "id": "c60fec00",
   "metadata": {},
   "outputs": [
    {
     "name": "stdout",
     "output_type": "stream",
     "text": [
      "25\n"
     ]
    }
   ],
   "source": [
    "print(x)"
   ]
  },
  {
   "cell_type": "code",
   "execution_count": 8,
   "id": "37a9df0d",
   "metadata": {},
   "outputs": [
    {
     "name": "stdout",
     "output_type": "stream",
     "text": [
      "50\n"
     ]
    }
   ],
   "source": [
    "print(printer())"
   ]
  },
  {
   "cell_type": "code",
   "execution_count": 16,
   "id": "0f12a3d4",
   "metadata": {},
   "outputs": [],
   "source": [
    "#l-local\n",
    "#E-Enclosing function local\n",
    "#G-global\n",
    "#-B-built-in"
   ]
  },
  {
   "cell_type": "code",
   "execution_count": 17,
   "id": "428502bd",
   "metadata": {},
   "outputs": [],
   "source": [
    "#lambda num:num**2"
   ]
  },
  {
   "cell_type": "code",
   "execution_count": 25,
   "id": "3879bf29",
   "metadata": {},
   "outputs": [
    {
     "name": "stdout",
     "output_type": "stream",
     "text": [
      "hellosammy\n"
     ]
    }
   ],
   "source": [
    "name= 'this is a global name'\n",
    "def great():\n",
    "    #enclosing function\n",
    "    name = 'sammy'\n",
    "    \n",
    "    def hello():\n",
    "        print('hello' +name)\n",
    "        \n",
    "    hello()\n",
    "    \n",
    "great()   "
   ]
  },
  {
   "cell_type": "code",
   "execution_count": 27,
   "id": "78206f71",
   "metadata": {},
   "outputs": [
    {
     "name": "stdout",
     "output_type": "stream",
     "text": [
      "x is 50\n",
      "changed local x to 2\n",
      "x is still 50\n"
     ]
    }
   ],
   "source": [
    "x=50\n",
    "\n",
    "def func(x):\n",
    "    print('x is', x)\n",
    "    x=2\n",
    "    print('changed local x to', x)\n",
    "func(x)\n",
    "print('x is still',x)"
   ]
  },
  {
   "cell_type": "code",
   "execution_count": 40,
   "id": "5500e669",
   "metadata": {},
   "outputs": [
    {
     "name": "stdout",
     "output_type": "stream",
     "text": [
      "Before calling func(), x is: 50\n",
      "This function is now using the global x !\n",
      "Because of global x is: 50\n",
      "Ran func(), changed global x to 2\n",
      "Value of x (outside of func()) is: 2\n"
     ]
    }
   ],
   "source": [
    "#global\n",
    "x = 50\n",
    "\n",
    "def func ():\n",
    "    global x\n",
    "    print ('This function is now using the global x !')\n",
    "    print ('Because of global x is:',x)\n",
    "    x = 2\n",
    "    print ('Ran func(), changed global x to',x)\n",
    "    \n",
    "print('Before calling func(), x is:',x)\n",
    "func()\n",
    "print('Value of x (outside of func()) is:',x)"
   ]
  },
  {
   "cell_type": "code",
   "execution_count": null,
   "id": "17c94d46",
   "metadata": {},
   "outputs": [],
   "source": []
  }
 ],
 "metadata": {
  "kernelspec": {
   "display_name": "Python 3 (ipykernel)",
   "language": "python",
   "name": "python3"
  },
  "language_info": {
   "codemirror_mode": {
    "name": "ipython",
    "version": 3
   },
   "file_extension": ".py",
   "mimetype": "text/x-python",
   "name": "python",
   "nbconvert_exporter": "python",
   "pygments_lexer": "ipython3",
   "version": "3.10.9"
  }
 },
 "nbformat": 4,
 "nbformat_minor": 5
}

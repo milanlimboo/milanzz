{
 "cells": [
  {
   "cell_type": "code",
   "execution_count": 1,
   "id": "f298b6de",
   "metadata": {},
   "outputs": [],
   "source": [
    "# write loops in python "
   ]
  },
  {
   "cell_type": "code",
   "execution_count": 2,
   "id": "9e80d0a2",
   "metadata": {},
   "outputs": [],
   "source": [
    "#while bollen_condition:\n",
    "    #do something\n",
    "    #else:\n",
    "       #do something else"
   ]
  },
  {
   "cell_type": "code",
   "execution_count": 7,
   "id": "eefe13b1",
   "metadata": {},
   "outputs": [
    {
     "name": "stdout",
     "output_type": "stream",
     "text": [
      "the current value of x is0\n",
      "the current value of x is1\n",
      "the current value of x is2\n",
      "the current value of x is3\n",
      "the current value of x is4\n",
      "x is not less than 5\n"
     ]
    }
   ],
   "source": [
    "x = 0\n",
    "while x<5:\n",
    "    print (f'the current value of x is{x}')\n",
    "    #x = x+1\n",
    "    x +=1\n",
    "else:\n",
    "    print('x is not less than 5')"
   ]
  },
  {
   "cell_type": "code",
   "execution_count": 4,
   "id": "1dc18952",
   "metadata": {},
   "outputs": [],
   "source": [
    "#break, continue pass"
   ]
  },
  {
   "cell_type": "code",
   "execution_count": 5,
   "id": "4657b2ad",
   "metadata": {},
   "outputs": [],
   "source": [
    "#break:break out of closest enclossing loop\n",
    "#continue:goes to the top of the closest enclossing loop\n",
    "#pass:does nothing at all"
   ]
  },
  {
   "cell_type": "code",
   "execution_count": 6,
   "id": "f1602b20",
   "metadata": {},
   "outputs": [
    {
     "name": "stdout",
     "output_type": "stream",
     "text": [
      "the end of my script\n"
     ]
    }
   ],
   "source": [
    "x=[1,2,3,]\n",
    "for item in x:\n",
    "    #gsdgsd\n",
    "    pass\n",
    "print('the end of my script')"
   ]
  },
  {
   "cell_type": "code",
   "execution_count": 8,
   "id": "83ed698c",
   "metadata": {},
   "outputs": [
    {
     "name": "stdout",
     "output_type": "stream",
     "text": [
      "x is not less than 5\n"
     ]
    }
   ],
   "source": [
    "x=50\n",
    "while x<5:\n",
    "    print(f'the current value of x is {x}')\n",
    "    #x = x+1\n",
    "    x +=1\n",
    "else:\n",
    "    print('x is not less than 5')"
   ]
  },
  {
   "cell_type": "code",
   "execution_count": 11,
   "id": "2ef51aea",
   "metadata": {},
   "outputs": [],
   "source": [
    "mystring='milan'\n",
    "for letter in mystring:\n",
    "    if letter =='l':\n",
    "        continue\n",
    "        print(letter)\n",
    "        \n",
    "\n"
   ]
  },
  {
   "cell_type": "code",
   "execution_count": null,
   "id": "34a10bc9",
   "metadata": {},
   "outputs": [],
   "source": []
  }
 ],
 "metadata": {
  "kernelspec": {
   "display_name": "Python 3 (ipykernel)",
   "language": "python",
   "name": "python3"
  },
  "language_info": {
   "codemirror_mode": {
    "name": "ipython",
    "version": 3
   },
   "file_extension": ".py",
   "mimetype": "text/x-python",
   "name": "python",
   "nbconvert_exporter": "python",
   "pygments_lexer": "ipython3",
   "version": "3.10.9"
  }
 },
 "nbformat": 4,
 "nbformat_minor": 5
}
